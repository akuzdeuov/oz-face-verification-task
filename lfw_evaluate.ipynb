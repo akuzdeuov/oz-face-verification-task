{
 "cells": [
  {
   "cell_type": "code",
   "execution_count": 1,
   "id": "961ae8d0-b2a6-4138-8dad-5ba8831d604a",
   "metadata": {},
   "outputs": [],
   "source": [
    "from models.nn import SigmoidSiameseNetwork, ContrastiveSiameseNetwork\n",
    "\n",
    "from imutils import paths\n",
    "from PIL import Image\n",
    "import numpy as np\n",
    "import plot\n",
    "import os\n",
    "\n",
    "import torchvision.transforms as transforms\n",
    "import torchvision.datasets as datasets\n",
    "import torchvision.utils\n",
    "import torchvision\n",
    "\n",
    "import torch\n",
    "import torch.nn.functional as F"
   ]
  },
  {
   "cell_type": "code",
   "execution_count": 2,
   "id": "a5dec870-f9d7-4572-b166-6000609ae7d7",
   "metadata": {},
   "outputs": [],
   "source": [
    "from sklearn.metrics import roc_curve, auc\n",
    "import matplotlib.pyplot as plt\n",
    "from scipy.optimize import brentq\n",
    "from scipy.interpolate import interp1d"
   ]
  },
  {
   "cell_type": "code",
   "execution_count": 3,
   "id": "7ba7cd89-abed-4857-89c0-fec9e30ca04f",
   "metadata": {},
   "outputs": [
    {
     "name": "stdout",
     "output_type": "stream",
     "text": [
      "Device: cuda\n"
     ]
    },
    {
     "data": {
      "text/plain": [
       "SigmoidSiameseNetwork(\n",
       "  (resnet): Sequential(\n",
       "    (0): Conv2d(1, 64, kernel_size=(5, 5), stride=(2, 2), padding=(2, 2), bias=False)\n",
       "    (1): BatchNorm2d(64, eps=1e-05, momentum=0.1, affine=True, track_running_stats=True)\n",
       "    (2): ReLU(inplace=True)\n",
       "    (3): MaxPool2d(kernel_size=3, stride=2, padding=1, dilation=1, ceil_mode=False)\n",
       "    (4): Sequential(\n",
       "      (0): BasicBlock(\n",
       "        (conv1): Conv2d(64, 64, kernel_size=(3, 3), stride=(1, 1), padding=(1, 1), bias=False)\n",
       "        (bn1): BatchNorm2d(64, eps=1e-05, momentum=0.1, affine=True, track_running_stats=True)\n",
       "        (relu): ReLU(inplace=True)\n",
       "        (conv2): Conv2d(64, 64, kernel_size=(3, 3), stride=(1, 1), padding=(1, 1), bias=False)\n",
       "        (bn2): BatchNorm2d(64, eps=1e-05, momentum=0.1, affine=True, track_running_stats=True)\n",
       "      )\n",
       "      (1): BasicBlock(\n",
       "        (conv1): Conv2d(64, 64, kernel_size=(3, 3), stride=(1, 1), padding=(1, 1), bias=False)\n",
       "        (bn1): BatchNorm2d(64, eps=1e-05, momentum=0.1, affine=True, track_running_stats=True)\n",
       "        (relu): ReLU(inplace=True)\n",
       "        (conv2): Conv2d(64, 64, kernel_size=(3, 3), stride=(1, 1), padding=(1, 1), bias=False)\n",
       "        (bn2): BatchNorm2d(64, eps=1e-05, momentum=0.1, affine=True, track_running_stats=True)\n",
       "      )\n",
       "    )\n",
       "    (5): Sequential(\n",
       "      (0): BasicBlock(\n",
       "        (conv1): Conv2d(64, 128, kernel_size=(3, 3), stride=(2, 2), padding=(1, 1), bias=False)\n",
       "        (bn1): BatchNorm2d(128, eps=1e-05, momentum=0.1, affine=True, track_running_stats=True)\n",
       "        (relu): ReLU(inplace=True)\n",
       "        (conv2): Conv2d(128, 128, kernel_size=(3, 3), stride=(1, 1), padding=(1, 1), bias=False)\n",
       "        (bn2): BatchNorm2d(128, eps=1e-05, momentum=0.1, affine=True, track_running_stats=True)\n",
       "        (downsample): Sequential(\n",
       "          (0): Conv2d(64, 128, kernel_size=(1, 1), stride=(2, 2), bias=False)\n",
       "          (1): BatchNorm2d(128, eps=1e-05, momentum=0.1, affine=True, track_running_stats=True)\n",
       "        )\n",
       "      )\n",
       "      (1): BasicBlock(\n",
       "        (conv1): Conv2d(128, 128, kernel_size=(3, 3), stride=(1, 1), padding=(1, 1), bias=False)\n",
       "        (bn1): BatchNorm2d(128, eps=1e-05, momentum=0.1, affine=True, track_running_stats=True)\n",
       "        (relu): ReLU(inplace=True)\n",
       "        (conv2): Conv2d(128, 128, kernel_size=(3, 3), stride=(1, 1), padding=(1, 1), bias=False)\n",
       "        (bn2): BatchNorm2d(128, eps=1e-05, momentum=0.1, affine=True, track_running_stats=True)\n",
       "      )\n",
       "    )\n",
       "    (6): Sequential(\n",
       "      (0): BasicBlock(\n",
       "        (conv1): Conv2d(128, 256, kernel_size=(3, 3), stride=(2, 2), padding=(1, 1), bias=False)\n",
       "        (bn1): BatchNorm2d(256, eps=1e-05, momentum=0.1, affine=True, track_running_stats=True)\n",
       "        (relu): ReLU(inplace=True)\n",
       "        (conv2): Conv2d(256, 256, kernel_size=(3, 3), stride=(1, 1), padding=(1, 1), bias=False)\n",
       "        (bn2): BatchNorm2d(256, eps=1e-05, momentum=0.1, affine=True, track_running_stats=True)\n",
       "        (downsample): Sequential(\n",
       "          (0): Conv2d(128, 256, kernel_size=(1, 1), stride=(2, 2), bias=False)\n",
       "          (1): BatchNorm2d(256, eps=1e-05, momentum=0.1, affine=True, track_running_stats=True)\n",
       "        )\n",
       "      )\n",
       "      (1): BasicBlock(\n",
       "        (conv1): Conv2d(256, 256, kernel_size=(3, 3), stride=(1, 1), padding=(1, 1), bias=False)\n",
       "        (bn1): BatchNorm2d(256, eps=1e-05, momentum=0.1, affine=True, track_running_stats=True)\n",
       "        (relu): ReLU(inplace=True)\n",
       "        (conv2): Conv2d(256, 256, kernel_size=(3, 3), stride=(1, 1), padding=(1, 1), bias=False)\n",
       "        (bn2): BatchNorm2d(256, eps=1e-05, momentum=0.1, affine=True, track_running_stats=True)\n",
       "      )\n",
       "    )\n",
       "    (7): Sequential(\n",
       "      (0): BasicBlock(\n",
       "        (conv1): Conv2d(256, 512, kernel_size=(3, 3), stride=(2, 2), padding=(1, 1), bias=False)\n",
       "        (bn1): BatchNorm2d(512, eps=1e-05, momentum=0.1, affine=True, track_running_stats=True)\n",
       "        (relu): ReLU(inplace=True)\n",
       "        (conv2): Conv2d(512, 512, kernel_size=(3, 3), stride=(1, 1), padding=(1, 1), bias=False)\n",
       "        (bn2): BatchNorm2d(512, eps=1e-05, momentum=0.1, affine=True, track_running_stats=True)\n",
       "        (downsample): Sequential(\n",
       "          (0): Conv2d(256, 512, kernel_size=(1, 1), stride=(2, 2), bias=False)\n",
       "          (1): BatchNorm2d(512, eps=1e-05, momentum=0.1, affine=True, track_running_stats=True)\n",
       "        )\n",
       "      )\n",
       "      (1): BasicBlock(\n",
       "        (conv1): Conv2d(512, 512, kernel_size=(3, 3), stride=(1, 1), padding=(1, 1), bias=False)\n",
       "        (bn1): BatchNorm2d(512, eps=1e-05, momentum=0.1, affine=True, track_running_stats=True)\n",
       "        (relu): ReLU(inplace=True)\n",
       "        (conv2): Conv2d(512, 512, kernel_size=(3, 3), stride=(1, 1), padding=(1, 1), bias=False)\n",
       "        (bn2): BatchNorm2d(512, eps=1e-05, momentum=0.1, affine=True, track_running_stats=True)\n",
       "      )\n",
       "    )\n",
       "    (8): AdaptiveAvgPool2d(output_size=(1, 1))\n",
       "  )\n",
       "  (fc): Sequential(\n",
       "    (0): Linear(in_features=1024, out_features=128, bias=True)\n",
       "    (1): ReLU(inplace=True)\n",
       "    (2): Linear(in_features=128, out_features=1, bias=True)\n",
       "  )\n",
       "  (sigmoid): Sigmoid()\n",
       ")"
      ]
     },
     "execution_count": 3,
     "metadata": {},
     "output_type": "execute_result"
    }
   ],
   "source": [
    "device = 'cuda' if torch.cuda.is_available() else 'cpu'\n",
    "print(\"Device:\", device)\n",
    "\n",
    "# load the model\n",
    "model = SigmoidSiameseNetwork().to(device)\n",
    "model.load_state_dict(torch.load('checkpoints/sigmoid_siamese.pth'))\n",
    "model.eval()"
   ]
  },
  {
   "cell_type": "code",
   "execution_count": 4,
   "id": "3904dada-c997-4b7b-9923-964e82746822",
   "metadata": {},
   "outputs": [
    {
     "name": "stdout",
     "output_type": "stream",
     "text": [
      "12000\n"
     ]
    }
   ],
   "source": [
    "# path to the LFW dataset\n",
    "lfw_dataset = 'lfw/'\n",
    "\n",
    "# get paths to all images in the LFW dataset\n",
    "imgPaths = list(paths.list_images(lfw_dataset))\n",
    "\n",
    "# total number images\n",
    "print(len(imgPaths))"
   ]
  },
  {
   "cell_type": "code",
   "execution_count": 5,
   "id": "74dfe301-bf4a-474a-8f69-4c7dcb5e0488",
   "metadata": {},
   "outputs": [],
   "source": [
    "# create two dictionaries to store positive and negative pairs\n",
    "pos_pairs = {}\n",
    "neg_pairs = {}\n",
    "\n",
    "for imgPath in imgPaths:\n",
    "    main_folder, pair_type, img_folder, img_name = imgPath.split('/')\n",
    "    path_to_pair = os.path.join(main_folder, pair_type, img_folder)\n",
    "    if pair_type == 'positive': \n",
    "        if path_to_pair not in pos_pairs:\n",
    "            pos_pairs[path_to_pair] = [imgPath]\n",
    "        else:\n",
    "            pos_pairs[path_to_pair].append(imgPath)\n",
    "    else:\n",
    "        if path_to_pair not in neg_pairs:\n",
    "            neg_pairs[path_to_pair] = [imgPath]\n",
    "        else:\n",
    "            neg_pairs[path_to_pair].append(imgPath)"
   ]
  },
  {
   "cell_type": "code",
   "execution_count": 6,
   "id": "bd4c587c-0c66-43a5-9cdd-52943749acc0",
   "metadata": {},
   "outputs": [],
   "source": [
    "# image transformation \n",
    "transform = transforms.Compose([transforms.Resize((32,32)),\n",
    "                                transforms.ToTensor()])\n",
    "\n",
    "def img_process(img_path, transform, device):\n",
    "    img = Image.open(img_path)\n",
    "    img = img.convert(\"L\")\n",
    "    img = transform(img)\n",
    "    img = torch.unsqueeze(img,dim=1)\n",
    "    img = img.to(device)\n",
    "    \n",
    "    return img"
   ]
  },
  {
   "cell_type": "code",
   "execution_count": 7,
   "id": "5c22882a-1385-4ed8-b277-1eb7f277b11e",
   "metadata": {
    "tags": []
   },
   "outputs": [],
   "source": [
    "# define lists to store true labels, predicted labels, and scores\n",
    "y_true = []\n",
    "y_pred = []\n",
    "scores = []\n",
    "\n",
    "# threshold to cut predictions with lower scores\n",
    "threshold = 0.5\n",
    "\n",
    "# function that measures cosine similary\n",
    "Cosine_Similarity = torch.nn.CosineSimilarity(dim=1, eps=1e-6)\n",
    "\n",
    "# pass positive and negative pairs through the model\n",
    "# and calculate cosine distance using output embeddings\n",
    "with torch.no_grad():\n",
    "    for img1_path, img2_path in pos_pairs.values():\n",
    "        img1 = img_process(img1_path, transform, device)\n",
    "        img2 = img_process(img2_path, transform, device)\n",
    "        output1, output2 = model.forward_once(img1), model.forward_once(img2)\n",
    "        euclidean_distance = F.pairwise_distance(output1.flatten(), output2.flatten())\n",
    "        cosine_similarity = Cosine_Similarity(output1, output2)\n",
    "        cosine_distance = 1-cosine_similarity.cpu().detach().numpy()[0]\n",
    "        y_true.append(1)\n",
    "        scores.append(cosine_distance)\n",
    "        if cosine_distance < threshold:\n",
    "            y_pred.append(1)\n",
    "        else:\n",
    "            y_pred.append(0)\n",
    "\n",
    "    for img1_path, img2_path in neg_pairs.values():\n",
    "        img1 = img_process(img1_path, transform, device)\n",
    "        img2 = img_process(img2_path, transform, device)\n",
    "        output1, output2 = model.forward_once(img1), model.forward_once(img2)\n",
    "        euclidean_distance = F.pairwise_distance(output1.flatten(), output2.flatten())\n",
    "        cosine_similarity = Cosine_Similarity(output1, output2)\n",
    "        cosine_distance = 1-cosine_similarity.cpu().detach().numpy()[0]\n",
    "        y_true.append(0)\n",
    "        scores.append(cosine_distance)\n",
    "        if cosine_distance < threshold:\n",
    "            y_pred.append(1)\n",
    "        else:\n",
    "            y_pred.append(0)"
   ]
  },
  {
   "cell_type": "code",
   "execution_count": 8,
   "id": "e064d26d-e086-42ad-aedd-bb5fb215239d",
   "metadata": {},
   "outputs": [
    {
     "name": "stdout",
     "output_type": "stream",
     "text": [
      "Confusion Matrix:\n",
      "[[1929 1071]\n",
      " [ 131 2869]]\n",
      "\n",
      "True Positives: 2869\n",
      "True Negatives: 1929\n",
      "False Positives: 1071\n",
      "False Negatives: 131\n",
      "\n",
      "Classification Report:\n",
      "              precision    recall  f1-score   support\n",
      "\n",
      "           0       0.94      0.64      0.76      3000\n",
      "           1       0.73      0.96      0.83      3000\n",
      "\n",
      "    accuracy                           0.80      6000\n",
      "   macro avg       0.83      0.80      0.79      6000\n",
      "weighted avg       0.83      0.80      0.79      6000\n",
      "\n"
     ]
    }
   ],
   "source": [
    "from sklearn.metrics import confusion_matrix, classification_report\n",
    "\n",
    "# calculate confusion matrix\n",
    "confusion = confusion_matrix(y_true, y_pred)\n",
    "\n",
    "# True Positives, True Negatives, False Positives, False Negatives\n",
    "tn, fp, fn, tp = confusion.ravel()\n",
    "\n",
    "# print the confusion matrix and classification report\n",
    "print(\"Confusion Matrix:\")\n",
    "print(confusion)\n",
    "print(\"\\nTrue Positives:\", tp)\n",
    "print(\"True Negatives:\", tn)\n",
    "print(\"False Positives:\", fp)\n",
    "print(\"False Negatives:\", fn)\n",
    "\n",
    "# print the classification report\n",
    "report = classification_report(y_true, y_pred)\n",
    "print(\"\\nClassification Report:\")\n",
    "print(report)"
   ]
  },
  {
   "cell_type": "code",
   "execution_count": 9,
   "id": "08070217-7686-4dcf-845b-1a1ec817f2cb",
   "metadata": {},
   "outputs": [],
   "source": [
    "# calculate False Positive Rates, True Positive Rates, and Thresholds\n",
    "fpr, tpr, thrs = roc_curve(y_true, scores, pos_label=0)"
   ]
  },
  {
   "cell_type": "code",
   "execution_count": 10,
   "id": "dd5ec8be-74cd-4f4f-af20-cfa95b802340",
   "metadata": {},
   "outputs": [
    {
     "data": {
      "image/png": "[encoded data removed]",
      "text/plain": [
       "<Figure size 432x288 with 1 Axes>"
      ]
     },
     "metadata": {
      "needs_background": "light"
     },
     "output_type": "display_data"
    }
   ],
   "source": [
    "# Plot ROC curve\n",
    "fig = plt.figure()\n",
    "plt.plot(fpr, tpr, color='darkorange', lw=2, label='ROC curve (area = %0.4f)' % auc(fpr, tpr))\n",
    "plt.plot([0, 1], [0, 1], color='navy', lw=2, linestyle='--')\n",
    "plt.xlim([-0.01, 1.0])\n",
    "plt.ylim([0.0, 1.01])\n",
    "plt.xlabel('False Positive Rate')\n",
    "plt.ylabel('True Positive Rate')\n",
    "plt.title('ROC on LFW')\n",
    "plt.legend(loc=\"lower right\")\n",
    "plt.show()\n",
    "fig.savefig(\"roc_lfw.png\", dpi=fig.dpi)"
   ]
  },
  {
   "cell_type": "code",
   "execution_count": 11,
   "id": "bbafa45c-3154-4b60-8d43-a828a75c8c46",
   "metadata": {},
   "outputs": [
    {
     "data": {
      "image/png": "[encoded data removed]",
      "text/plain": [
       "<Figure size 432x288 with 1 Axes>"
      ]
     },
     "metadata": {
      "needs_background": "light"
     },
     "output_type": "display_data"
    }
   ],
   "source": [
    "# plot fpr, tpr against the no. of threshold\n",
    "# FAR = FPR = FP/(FP + TN)\n",
    "# FRR = FNR = FN/(FN + TP)\n",
    "fnr = 1 - tpr\n",
    "\n",
    "fig = plt.figure()\n",
    "plt.plot(thrs, fpr, label='FPR')\n",
    "plt.plot(thrs, fnr, label='FNR')\n",
    "plt.xlabel('Threshold')\n",
    "plt.ylabel('FAR/FRR')\n",
    "plt.legend()\n",
    "plt.show()\n",
    "fig.savefig(\"far_fpr_thr.png\", dpi=fig.dpi)"
   ]
  },
  {
   "cell_type": "code",
   "execution_count": 12,
   "id": "0fa9ead6-a7d3-4335-846d-2fb22f7ae85a",
   "metadata": {},
   "outputs": [
    {
     "name": "stdout",
     "output_type": "stream",
     "text": [
      "EER: 16.33%\n",
      "Threshold: 0.3216\n"
     ]
    }
   ],
   "source": [
    "eer = brentq(lambda x : 1. - x - interp1d(fpr, tpr)(x), 0., 1.)\n",
    "thresh = interp1d(fpr, thrs)(eer)\n",
    "print(f\"EER: {eer*100:.2f}%\")\n",
    "print(f\"Threshold: {thresh:.4f}\")"
   ]
  },
  {
   "cell_type": "code",
   "execution_count": 13,
   "id": "1e4b32d2-057a-4d1f-9a42-f4cf898bfff3",
   "metadata": {},
   "outputs": [
    {
     "data": {
      "image/png": "[encoded data removed]",
      "text/plain": [
       "<Figure size 432x288 with 1 Axes>"
      ]
     },
     "metadata": {
      "needs_background": "light"
     },
     "output_type": "display_data"
    }
   ],
   "source": [
    "# plot fpr vs tpr\n",
    "fnr = 1 - tpr\n",
    "\n",
    "fig = plt.figure()\n",
    "plt.plot(fnr, fpr)\n",
    "plt.plot([0, 1], [0, 1], color='navy', lw=2, linestyle='--')\n",
    "plt.xlabel('FRR')\n",
    "plt.ylabel('FAR')\n",
    "plt.show()\n",
    "fig.savefig(\"far_fpr.png\", dpi=fig.dpi)"
   ]
  },
  {
   "cell_type": "code",
   "execution_count": null,
   "id": "e1bcd4a1-22b1-44ee-9407-4b93d6c2f2c9",
   "metadata": {},
   "outputs": [],
   "source": []
  }
 ],
 "metadata": {
  "kernelspec": {
   "display_name": "Python 3",
   "language": "python",
   "name": "python3"
  },
  "language_info": {
   "codemirror_mode": {
    "name": "ipython",
    "version": 3
   },
   "file_extension": ".py",
   "mimetype": "text/x-python",
   "name": "python",
   "nbconvert_exporter": "python",
   "pygments_lexer": "ipython3",
   "version": "3.8.10"
  }
 },
 "nbformat": 4,
 "nbformat_minor": 5
}
